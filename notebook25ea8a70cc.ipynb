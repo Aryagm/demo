{
 "cells": [
  {
   "cell_type": "code",
   "execution_count": 1,
   "id": "4a3e06dd",
   "metadata": {
    "_cell_guid": "b1076dfc-b9ad-4769-8c92-a6c4dae69d19",
    "_uuid": "8f2839f25d086af736a60e9eeb907d3b93b6e0e5",
    "execution": {
     "iopub.execute_input": "2023-11-06T17:49:39.373050Z",
     "iopub.status.busy": "2023-11-06T17:49:39.372282Z",
     "iopub.status.idle": "2023-11-06T17:49:42.164813Z",
     "shell.execute_reply": "2023-11-06T17:49:42.163434Z"
    },
    "papermill": {
     "duration": 2.804027,
     "end_time": "2023-11-06T17:49:42.168324",
     "exception": false,
     "start_time": "2023-11-06T17:49:39.364297",
     "status": "completed"
    },
    "tags": []
   },
   "outputs": [],
   "source": [
    "# This Python 3 environment comes with many helpful analytics libraries installed\n",
    "# It is defined by the kaggle/python Docker image: https://github.com/kaggle/docker-python\n",
    "# For example, here's several helpful packages to load\n",
    "\n",
    "import numpy as np # linear algebra\n",
    "import pandas as pd # data processing, CSV file I/O (e.g. pd.read_csv)\n",
    "import matplotlib.pyplot as plt\n",
    "from sklearn.linear_model import LinearRegression\n",
    "from sklearn.model_selection import train_test_split"
   ]
  },
  {
   "cell_type": "code",
   "execution_count": 2,
   "id": "d6380bfa",
   "metadata": {
    "execution": {
     "iopub.execute_input": "2023-11-06T17:49:42.184372Z",
     "iopub.status.busy": "2023-11-06T17:49:42.183670Z",
     "iopub.status.idle": "2023-11-06T17:49:42.207235Z",
     "shell.execute_reply": "2023-11-06T17:49:42.205824Z"
    },
    "papermill": {
     "duration": 0.033625,
     "end_time": "2023-11-06T17:49:42.210346",
     "exception": false,
     "start_time": "2023-11-06T17:49:42.176721",
     "status": "completed"
    },
    "tags": []
   },
   "outputs": [],
   "source": [
    "df = pd.read_csv(\"/kaggle/input/iris-data-2/iris_data (1).csv\")"
   ]
  },
  {
   "cell_type": "code",
   "execution_count": 3,
   "id": "af229453",
   "metadata": {
    "execution": {
     "iopub.execute_input": "2023-11-06T17:49:42.223605Z",
     "iopub.status.busy": "2023-11-06T17:49:42.223133Z",
     "iopub.status.idle": "2023-11-06T17:49:42.252707Z",
     "shell.execute_reply": "2023-11-06T17:49:42.251452Z"
    },
    "papermill": {
     "duration": 0.040967,
     "end_time": "2023-11-06T17:49:42.256835",
     "exception": false,
     "start_time": "2023-11-06T17:49:42.215868",
     "status": "completed"
    },
    "tags": []
   },
   "outputs": [
    {
     "data": {
      "text/html": [
       "<div>\n",
       "<style scoped>\n",
       "    .dataframe tbody tr th:only-of-type {\n",
       "        vertical-align: middle;\n",
       "    }\n",
       "\n",
       "    .dataframe tbody tr th {\n",
       "        vertical-align: top;\n",
       "    }\n",
       "\n",
       "    .dataframe thead th {\n",
       "        text-align: right;\n",
       "    }\n",
       "</style>\n",
       "<table border=\"1\" class=\"dataframe\">\n",
       "  <thead>\n",
       "    <tr style=\"text-align: right;\">\n",
       "      <th></th>\n",
       "      <th>PetalLengthCm</th>\n",
       "      <th>PetalWidthCm</th>\n",
       "      <th>Species</th>\n",
       "    </tr>\n",
       "  </thead>\n",
       "  <tbody>\n",
       "    <tr>\n",
       "      <th>0</th>\n",
       "      <td>1.4</td>\n",
       "      <td>0.2</td>\n",
       "      <td>Iris-setosa</td>\n",
       "    </tr>\n",
       "    <tr>\n",
       "      <th>1</th>\n",
       "      <td>1.4</td>\n",
       "      <td>0.2</td>\n",
       "      <td>Iris-setosa</td>\n",
       "    </tr>\n",
       "    <tr>\n",
       "      <th>2</th>\n",
       "      <td>1.3</td>\n",
       "      <td>0.2</td>\n",
       "      <td>Iris-setosa</td>\n",
       "    </tr>\n",
       "    <tr>\n",
       "      <th>3</th>\n",
       "      <td>1.5</td>\n",
       "      <td>0.2</td>\n",
       "      <td>Iris-setosa</td>\n",
       "    </tr>\n",
       "    <tr>\n",
       "      <th>4</th>\n",
       "      <td>1.4</td>\n",
       "      <td>0.2</td>\n",
       "      <td>Iris-setosa</td>\n",
       "    </tr>\n",
       "  </tbody>\n",
       "</table>\n",
       "</div>"
      ],
      "text/plain": [
       "   PetalLengthCm  PetalWidthCm      Species\n",
       "0            1.4           0.2  Iris-setosa\n",
       "1            1.4           0.2  Iris-setosa\n",
       "2            1.3           0.2  Iris-setosa\n",
       "3            1.5           0.2  Iris-setosa\n",
       "4            1.4           0.2  Iris-setosa"
      ]
     },
     "execution_count": 3,
     "metadata": {},
     "output_type": "execute_result"
    }
   ],
   "source": [
    "df.head()"
   ]
  },
  {
   "cell_type": "code",
   "execution_count": 4,
   "id": "33be3d2b",
   "metadata": {
    "execution": {
     "iopub.execute_input": "2023-11-06T17:49:42.272567Z",
     "iopub.status.busy": "2023-11-06T17:49:42.270986Z",
     "iopub.status.idle": "2023-11-06T17:49:42.290597Z",
     "shell.execute_reply": "2023-11-06T17:49:42.289328Z"
    },
    "papermill": {
     "duration": 0.030851,
     "end_time": "2023-11-06T17:49:42.293707",
     "exception": false,
     "start_time": "2023-11-06T17:49:42.262856",
     "status": "completed"
    },
    "tags": []
   },
   "outputs": [
    {
     "data": {
      "text/plain": [
       "Species\n",
       "Iris-setosa       50\n",
       "Iris-virginica    50\n",
       "Name: count, dtype: int64"
      ]
     },
     "execution_count": 4,
     "metadata": {},
     "output_type": "execute_result"
    }
   ],
   "source": [
    "df.Species.value_counts()"
   ]
  },
  {
   "cell_type": "code",
   "execution_count": 5,
   "id": "a77176e2",
   "metadata": {
    "execution": {
     "iopub.execute_input": "2023-11-06T17:49:42.307167Z",
     "iopub.status.busy": "2023-11-06T17:49:42.306637Z",
     "iopub.status.idle": "2023-11-06T17:49:42.322470Z",
     "shell.execute_reply": "2023-11-06T17:49:42.321267Z"
    },
    "papermill": {
     "duration": 0.025848,
     "end_time": "2023-11-06T17:49:42.325264",
     "exception": false,
     "start_time": "2023-11-06T17:49:42.299416",
     "status": "completed"
    },
    "tags": []
   },
   "outputs": [
    {
     "data": {
      "text/html": [
       "<div>\n",
       "<style scoped>\n",
       "    .dataframe tbody tr th:only-of-type {\n",
       "        vertical-align: middle;\n",
       "    }\n",
       "\n",
       "    .dataframe tbody tr th {\n",
       "        vertical-align: top;\n",
       "    }\n",
       "\n",
       "    .dataframe thead th {\n",
       "        text-align: right;\n",
       "    }\n",
       "</style>\n",
       "<table border=\"1\" class=\"dataframe\">\n",
       "  <thead>\n",
       "    <tr style=\"text-align: right;\">\n",
       "      <th></th>\n",
       "      <th>PetalLengthCm</th>\n",
       "      <th>PetalWidthCm</th>\n",
       "      <th>Species</th>\n",
       "    </tr>\n",
       "  </thead>\n",
       "  <tbody>\n",
       "    <tr>\n",
       "      <th>0</th>\n",
       "      <td>1.4</td>\n",
       "      <td>0.2</td>\n",
       "      <td>1</td>\n",
       "    </tr>\n",
       "    <tr>\n",
       "      <th>1</th>\n",
       "      <td>1.4</td>\n",
       "      <td>0.2</td>\n",
       "      <td>1</td>\n",
       "    </tr>\n",
       "    <tr>\n",
       "      <th>2</th>\n",
       "      <td>1.3</td>\n",
       "      <td>0.2</td>\n",
       "      <td>1</td>\n",
       "    </tr>\n",
       "    <tr>\n",
       "      <th>3</th>\n",
       "      <td>1.5</td>\n",
       "      <td>0.2</td>\n",
       "      <td>1</td>\n",
       "    </tr>\n",
       "    <tr>\n",
       "      <th>4</th>\n",
       "      <td>1.4</td>\n",
       "      <td>0.2</td>\n",
       "      <td>1</td>\n",
       "    </tr>\n",
       "  </tbody>\n",
       "</table>\n",
       "</div>"
      ],
      "text/plain": [
       "   PetalLengthCm  PetalWidthCm  Species\n",
       "0            1.4           0.2        1\n",
       "1            1.4           0.2        1\n",
       "2            1.3           0.2        1\n",
       "3            1.5           0.2        1\n",
       "4            1.4           0.2        1"
      ]
     },
     "execution_count": 5,
     "metadata": {},
     "output_type": "execute_result"
    }
   ],
   "source": [
    "# Using a shortcut, the lambda function maps all the values that are Ontario to 1 and the others (Texas) to 0\n",
    "df[\"Species\"] = df[\"Species\"].apply(lambda x:1 if x == \"Iris-setosa\" else 0)\n",
    "\n",
    "df.head()"
   ]
  },
  {
   "cell_type": "code",
   "execution_count": 6,
   "id": "e0b0628e",
   "metadata": {
    "execution": {
     "iopub.execute_input": "2023-11-06T17:49:42.340280Z",
     "iopub.status.busy": "2023-11-06T17:49:42.338955Z",
     "iopub.status.idle": "2023-11-06T17:49:42.898351Z",
     "shell.execute_reply": "2023-11-06T17:49:42.897090Z"
    },
    "papermill": {
     "duration": 0.569987,
     "end_time": "2023-11-06T17:49:42.901314",
     "exception": false,
     "start_time": "2023-11-06T17:49:42.331327",
     "status": "completed"
    },
    "tags": []
   },
   "outputs": [
    {
     "data": {
      "image/png": "[encoded data removed]",
      "text/plain": [
       "<Figure size 640x480 with 2 Axes>"
      ]
     },
     "metadata": {},
     "output_type": "display_data"
    }
   ],
   "source": [
    "# Plot square feet on the x-axis and housing prices on the y-axis. Using color, the Species will be plotted with 1 as yellow and 0 as purple\n",
    "plt.scatter(df[\"PetalLengthCm\"], df[\"PetalWidthCm\"], c=df[\"Species\"]) # cmap represents the colour scheme\n",
    "\n",
    "# Label the axes\n",
    "plt.xlabel(\"Petal Length (cm)\")\n",
    "plt.ylabel(\"Petal Width (cm)\")\n",
    "\n",
    "# Adding a colorbar to show the values of Species (0 or 1)\n",
    "cbar = plt.colorbar()\n",
    "cbar.set_label('Flower Species (1 for Iris-setosa, 0 for Iris-versicolor)')\n",
    "\n",
    "# Display the plot\n",
    "plt.show()\n",
    "\n",
    "# By default mathplotlib sets high values with scientific notation --> 1e6 means [y-value] x 10^6"
   ]
  },
  {
   "cell_type": "code",
   "execution_count": 7,
   "id": "f9984304",
   "metadata": {
    "execution": {
     "iopub.execute_input": "2023-11-06T17:49:42.917317Z",
     "iopub.status.busy": "2023-11-06T17:49:42.916754Z",
     "iopub.status.idle": "2023-11-06T17:49:42.931955Z",
     "shell.execute_reply": "2023-11-06T17:49:42.930894Z"
    },
    "papermill": {
     "duration": 0.026346,
     "end_time": "2023-11-06T17:49:42.934580",
     "exception": false,
     "start_time": "2023-11-06T17:49:42.908234",
     "status": "completed"
    },
    "tags": []
   },
   "outputs": [],
   "source": [
    "# Split the data into features (x values) and labels (y values)\n",
    "features = df[[\"PetalLengthCm\", \"PetalWidthCm\"]]\n",
    "labels = df[[\"Species\"]]"
   ]
  },
  {
   "cell_type": "code",
   "execution_count": 8,
   "id": "543a1031",
   "metadata": {
    "execution": {
     "iopub.execute_input": "2023-11-06T17:49:42.949998Z",
     "iopub.status.busy": "2023-11-06T17:49:42.949501Z",
     "iopub.status.idle": "2023-11-06T17:49:42.959646Z",
     "shell.execute_reply": "2023-11-06T17:49:42.958375Z"
    },
    "papermill": {
     "duration": 0.020871,
     "end_time": "2023-11-06T17:49:42.962128",
     "exception": false,
     "start_time": "2023-11-06T17:49:42.941257",
     "status": "completed"
    },
    "tags": []
   },
   "outputs": [],
   "source": [
    "# Using sklearns train_test_split function, the data will be split the data to use for training (80%) and testing (20%)\n",
    "features_train, features_test, labels_train, labels_test = train_test_split(features,labels, \n",
    "                                                                            train_size=0.8, \n",
    "                                                                            test_size=0.2, \n",
    "                                                                            random_state=42)"
   ]
  },
  {
   "cell_type": "code",
   "execution_count": 9,
   "id": "c6f7affd",
   "metadata": {
    "execution": {
     "iopub.execute_input": "2023-11-06T17:49:42.977448Z",
     "iopub.status.busy": "2023-11-06T17:49:42.976922Z",
     "iopub.status.idle": "2023-11-06T17:49:43.028658Z",
     "shell.execute_reply": "2023-11-06T17:49:43.027176Z"
    },
    "papermill": {
     "duration": 0.062911,
     "end_time": "2023-11-06T17:49:43.031682",
     "exception": false,
     "start_time": "2023-11-06T17:49:42.968771",
     "status": "completed"
    },
    "tags": []
   },
   "outputs": [
    {
     "data": {
      "text/html": [
       "<style>#sk-container-id-1 {color: black;background-color: white;}#sk-container-id-1 pre{padding: 0;}#sk-container-id-1 div.sk-toggleable {background-color: white;}#sk-container-id-1 label.sk-toggleable__label {cursor: pointer;display: block;width: 100%;margin-bottom: 0;padding: 0.3em;box-sizing: border-box;text-align: center;}#sk-container-id-1 label.sk-toggleable__label-arrow:before {content: \"▸\";float: left;margin-right: 0.25em;color: #696969;}#sk-container-id-1 label.sk-toggleable__label-arrow:hover:before {color: black;}#sk-container-id-1 div.sk-estimator:hover label.sk-toggleable__label-arrow:before {color: black;}#sk-container-id-1 div.sk-toggleable__content {max-height: 0;max-width: 0;overflow: hidden;text-align: left;background-color: #f0f8ff;}#sk-container-id-1 div.sk-toggleable__content pre {margin: 0.2em;color: black;border-radius: 0.25em;background-color: #f0f8ff;}#sk-container-id-1 input.sk-toggleable__control:checked~div.sk-toggleable__content {max-height: 200px;max-width: 100%;overflow: auto;}#sk-container-id-1 input.sk-toggleable__control:checked~label.sk-toggleable__label-arrow:before {content: \"▾\";}#sk-container-id-1 div.sk-estimator input.sk-toggleable__control:checked~label.sk-toggleable__label {background-color: #d4ebff;}#sk-container-id-1 div.sk-label input.sk-toggleable__control:checked~label.sk-toggleable__label {background-color: #d4ebff;}#sk-container-id-1 input.sk-hidden--visually {border: 0;clip: rect(1px 1px 1px 1px);clip: rect(1px, 1px, 1px, 1px);height: 1px;margin: -1px;overflow: hidden;padding: 0;position: absolute;width: 1px;}#sk-container-id-1 div.sk-estimator {font-family: monospace;background-color: #f0f8ff;border: 1px dotted black;border-radius: 0.25em;box-sizing: border-box;margin-bottom: 0.5em;}#sk-container-id-1 div.sk-estimator:hover {background-color: #d4ebff;}#sk-container-id-1 div.sk-parallel-item::after {content: \"\";width: 100%;border-bottom: 1px solid gray;flex-grow: 1;}#sk-container-id-1 div.sk-label:hover label.sk-toggleable__label {background-color: #d4ebff;}#sk-container-id-1 div.sk-serial::before {content: \"\";position: absolute;border-left: 1px solid gray;box-sizing: border-box;top: 0;bottom: 0;left: 50%;z-index: 0;}#sk-container-id-1 div.sk-serial {display: flex;flex-direction: column;align-items: center;background-color: white;padding-right: 0.2em;padding-left: 0.2em;position: relative;}#sk-container-id-1 div.sk-item {position: relative;z-index: 1;}#sk-container-id-1 div.sk-parallel {display: flex;align-items: stretch;justify-content: center;background-color: white;position: relative;}#sk-container-id-1 div.sk-item::before, #sk-container-id-1 div.sk-parallel-item::before {content: \"\";position: absolute;border-left: 1px solid gray;box-sizing: border-box;top: 0;bottom: 0;left: 50%;z-index: -1;}#sk-container-id-1 div.sk-parallel-item {display: flex;flex-direction: column;z-index: 1;position: relative;background-color: white;}#sk-container-id-1 div.sk-parallel-item:first-child::after {align-self: flex-end;width: 50%;}#sk-container-id-1 div.sk-parallel-item:last-child::after {align-self: flex-start;width: 50%;}#sk-container-id-1 div.sk-parallel-item:only-child::after {width: 0;}#sk-container-id-1 div.sk-dashed-wrapped {border: 1px dashed gray;margin: 0 0.4em 0.5em 0.4em;box-sizing: border-box;padding-bottom: 0.4em;background-color: white;}#sk-container-id-1 div.sk-label label {font-family: monospace;font-weight: bold;display: inline-block;line-height: 1.2em;}#sk-container-id-1 div.sk-label-container {text-align: center;}#sk-container-id-1 div.sk-container {/* jupyter's `normalize.less` sets `[hidden] { display: none; }` but bootstrap.min.css set `[hidden] { display: none !important; }` so we also need the `!important` here to be able to override the default hidden behavior on the sphinx rendered scikit-learn.org. See: https://github.com/scikit-learn/scikit-learn/issues/21755 */display: inline-block !important;position: relative;}#sk-container-id-1 div.sk-text-repr-fallback {display: none;}</style><div id=\"sk-container-id-1\" class=\"sk-top-container\"><div class=\"sk-text-repr-fallback\"><pre>LinearRegression()</pre><b>In a Jupyter environment, please rerun this cell to show the HTML representation or trust the notebook. <br />On GitHub, the HTML representation is unable to render, please try loading this page with nbviewer.org.</b></div><div class=\"sk-container\" hidden><div class=\"sk-item\"><div class=\"sk-estimator sk-toggleable\"><input class=\"sk-toggleable__control sk-hidden--visually\" id=\"sk-estimator-id-1\" type=\"checkbox\" checked><label for=\"sk-estimator-id-1\" class=\"sk-toggleable__label sk-toggleable__label-arrow\">LinearRegression</label><div class=\"sk-toggleable__content\"><pre>LinearRegression()</pre></div></div></div></div></div>"
      ],
      "text/plain": [
       "LinearRegression()"
      ]
     },
     "execution_count": 9,
     "metadata": {},
     "output_type": "execute_result"
    }
   ],
   "source": [
    "# Declare a linear regression model\n",
    "model = LinearRegression()\n",
    "# Use the training data to \"fit\" the model to it\n",
    "model.fit(features_train, labels_train)"
   ]
  },
  {
   "cell_type": "code",
   "execution_count": 10,
   "id": "36a15d91",
   "metadata": {
    "execution": {
     "iopub.execute_input": "2023-11-06T17:49:43.048175Z",
     "iopub.status.busy": "2023-11-06T17:49:43.047055Z",
     "iopub.status.idle": "2023-11-06T17:49:43.056128Z",
     "shell.execute_reply": "2023-11-06T17:49:43.054611Z"
    },
    "papermill": {
     "duration": 0.020458,
     "end_time": "2023-11-06T17:49:43.058998",
     "exception": false,
     "start_time": "2023-11-06T17:49:43.038540",
     "status": "completed"
    },
    "tags": []
   },
   "outputs": [],
   "source": [
    "# Create a variable to hold the model predictions of the testing data\n",
    "predictions = model.predict(features_test)"
   ]
  },
  {
   "cell_type": "code",
   "execution_count": 11,
   "id": "4bc75f42",
   "metadata": {
    "execution": {
     "iopub.execute_input": "2023-11-06T17:49:43.076179Z",
     "iopub.status.busy": "2023-11-06T17:49:43.075047Z",
     "iopub.status.idle": "2023-11-06T17:49:43.367201Z",
     "shell.execute_reply": "2023-11-06T17:49:43.365912Z"
    },
    "papermill": {
     "duration": 0.303795,
     "end_time": "2023-11-06T17:49:43.369857",
     "exception": false,
     "start_time": "2023-11-06T17:49:43.066062",
     "status": "completed"
    },
    "tags": []
   },
   "outputs": [
    {
     "data": {
      "image/png": "[encoded data removed]",
      "text/plain": [
       "<Figure size 640x480 with 1 Axes>"
      ]
     },
     "metadata": {},
     "output_type": "display_data"
    }
   ],
   "source": [
    "# Plot the real locations and the predictions\n",
    "plt.scatter(labels_test, predictions)\n",
    "\n",
    "plt.xlabel(\"Actual Species\")\n",
    "plt.ylabel(\"Predicted Species\")\n",
    "\n",
    "plt.show()"
   ]
  },
  {
   "cell_type": "code",
   "execution_count": 12,
   "id": "706f8d04",
   "metadata": {
    "execution": {
     "iopub.execute_input": "2023-11-06T17:49:43.387372Z",
     "iopub.status.busy": "2023-11-06T17:49:43.386133Z",
     "iopub.status.idle": "2023-11-06T17:49:43.398461Z",
     "shell.execute_reply": "2023-11-06T17:49:43.396805Z"
    },
    "papermill": {
     "duration": 0.0245,
     "end_time": "2023-11-06T17:49:43.401601",
     "exception": false,
     "start_time": "2023-11-06T17:49:43.377101",
     "status": "completed"
    },
    "tags": []
   },
   "outputs": [
    {
     "name": "stdout",
     "output_type": "stream",
     "text": [
      "0.9659100563247287\n"
     ]
    }
   ],
   "source": [
    "print(model.score(features_test, labels_test))\n"
   ]
  },
  {
   "cell_type": "code",
   "execution_count": null,
   "id": "184a5301",
   "metadata": {
    "papermill": {
     "duration": 0.006887,
     "end_time": "2023-11-06T17:49:43.415814",
     "exception": false,
     "start_time": "2023-11-06T17:49:43.408927",
     "status": "completed"
    },
    "tags": []
   },
   "outputs": [],
   "source": []
  }
 ],
 "metadata": {
  "kernelspec": {
   "display_name": "Python 3",
   "language": "python",
   "name": "python3"
  },
  "language_info": {
   "codemirror_mode": {
    "name": "ipython",
    "version": 3
   },
   "file_extension": ".py",
   "mimetype": "text/x-python",
   "name": "python",
   "nbconvert_exporter": "python",
   "pygments_lexer": "ipython3",
   "version": "3.10.12"
  },
  "papermill": {
   "default_parameters": {},
   "duration": 10.262861,
   "end_time": "2023-11-06T17:49:44.147336",
   "environment_variables": {},
   "exception": null,
   "input_path": "__notebook__.ipynb",
   "output_path": "__notebook__.ipynb",
   "parameters": {},
   "start_time": "2023-11-06T17:49:33.884475",
   "version": "2.4.0"
  }
 },
 "nbformat": 4,
 "nbformat_minor": 5
}
